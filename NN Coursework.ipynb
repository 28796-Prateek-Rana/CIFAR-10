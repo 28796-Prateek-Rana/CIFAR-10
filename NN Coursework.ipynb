{
 "cells": [
  {
   "cell_type": "markdown",
   "id": "30340afd-d403-4179-b889-5bfcf22d68df",
   "metadata": {},
   "source": [
    "# Neural Networks Coursework"
   ]
  },
  {
   "cell_type": "markdown",
   "id": "01a55a4c-b669-4fcc-9990-203cc229f302",
   "metadata": {},
   "source": [
    "## Importing Libraries"
   ]
  },
  {
   "cell_type": "code",
   "execution_count": 4,
   "id": "91e75953-aff6-47c6-9889-637cd751927e",
   "metadata": {},
   "outputs": [],
   "source": [
    "import torch\n",
    "import torch.nn as nn\n",
    "import torch.nn.functional as F\n",
    "from torch.utils.data import DataLoader\n",
    "from torchvision import datasets, transforms\n",
    "from tqdm import tqdm\n",
    "\n",
    "import warnings\n",
    "warnings.filterwarnings(\"ignore\")"
   ]
  },
  {
   "cell_type": "markdown",
   "id": "4a33eb2b-4367-4bb0-9206-75656613d87c",
   "metadata": {},
   "source": [
    "## Dataset CIFAR - 10"
   ]
  },
  {
   "cell_type": "code",
   "execution_count": 5,
   "id": "7d3fae23-de09-4217-a259-b886261f4b1f",
   "metadata": {},
   "outputs": [],
   "source": [
    "# Data Loading and Preprocessing\n",
    "def get_dataloaders(batch_size=128):\n",
    "    transform_train = transforms.Compose([\n",
    "        transforms.RandomHorizontalFlip(),\n",
    "        transforms.RandomCrop(32, padding=4),\n",
    "        transforms.ToTensor(),\n",
    "        transforms.Normalize((0.4914, 0.4822, 0.4465), (0.2023, 0.1994, 0.2010)),\n",
    "    ])\n",
    "    \n",
    "    transform_test = transforms.Compose([\n",
    "        transforms.ToTensor(),\n",
    "        transforms.Normalize((0.4914, 0.4822, 0.4465), (0.2023, 0.1994, 0.2010)),\n",
    "    ])\n",
    "    \n",
    "    # Load datasets\n",
    "    train_set = datasets.CIFAR10(root='./data', train=True, download=True, transform=transform_train)\n",
    "    test_set = datasets.CIFAR10(root='./data', train=False, download=True, transform=transform_test)\n",
    "    \n",
    "    # Create dataloaders with reduced memory usage\n",
    "    train_loader = DataLoader(train_set, batch_size=batch_size, shuffle=True, num_workers=2, pin_memory=True)\n",
    "    test_loader = DataLoader(test_set, batch_size=batch_size, shuffle=False, num_workers=2, pin_memory=True)\n",
    "    \n",
    "    return train_loader, test_loader"
   ]
  },
  {
   "cell_type": "code",
   "execution_count": 6,
   "id": "4a563529-65aa-40e5-9f2c-d933a29bb985",
   "metadata": {},
   "outputs": [
    {
     "name": "stdout",
     "output_type": "stream",
     "text": [
      "Using device: cuda\n"
     ]
    }
   ],
   "source": [
    "# Check if GPU is available\n",
    "device = torch.device(\"cuda\" if torch.cuda.is_available() else \"cpu\")\n",
    "print(f\"Using device: {device}\")"
   ]
  },
  {
   "cell_type": "markdown",
   "id": "adbeeb20-b727-4d15-9b38-45fe692c8fe5",
   "metadata": {},
   "source": [
    "## Basic Architecture"
   ]
  },
  {
   "cell_type": "markdown",
   "id": "a5fb03b9-ee33-4149-baba-0dc548703af7",
   "metadata": {},
   "source": [
    "### Intermediate Block"
   ]
  },
  {
   "cell_type": "code",
   "execution_count": 7,
   "id": "7c370aad-8e04-4f5c-9753-78ed764a009b",
   "metadata": {},
   "outputs": [],
   "source": [
    "# Define the Intermediate Block with Skip Connection\n",
    "class IntermediateBlock(nn.Module):\n",
    "    def __init__(self, in_channels, out_channels_list, kernel_sizes, strides=1, paddings=0):\n",
    "        \"\"\"\n",
    "        Intermediate Block with parallel convolutional layers and skip connection\n",
    "        \n",
    "        Args:\n",
    "            in_channels: Number of input channels\n",
    "            out_channels_list: List of output channels for each conv layer\n",
    "            kernel_sizes: List of kernel sizes for each conv layer\n",
    "            strides: List of strides or single stride for all conv layers\n",
    "            paddings: List of paddings or single padding for all conv layers\n",
    "        \"\"\"\n",
    "        super().__init__()\n",
    "        self.L = len(out_channels_list)  # Number of parallel conv layers\n",
    "        \n",
    "        # Convert to lists if single values are provided\n",
    "        if isinstance(strides, int):\n",
    "            strides = [strides] * self.L\n",
    "        if isinstance(paddings, int):\n",
    "            paddings = [paddings] * self.L\n",
    "            \n",
    "        # Create parallel convolutional layers\n",
    "        self.conv_layers = nn.ModuleList()\n",
    "        for out_channels, kernel_size, stride, padding in zip(out_channels_list, kernel_sizes, strides, paddings):\n",
    "            self.conv_layers.append(\n",
    "                nn.Sequential(\n",
    "                    nn.Conv2d(in_channels, out_channels, kernel_size, stride, padding),\n",
    "                    nn.BatchNorm2d(out_channels),\n",
    "                    nn.ReLU()\n",
    "                )\n",
    "            )\n",
    "        \n",
    "        # Skip connection setup\n",
    "        self.skip_connection = None\n",
    "        if in_channels != out_channels_list[0]:  # Only needed if channel dimensions change\n",
    "            self.skip_connection = nn.Sequential(\n",
    "                nn.Conv2d(in_channels, out_channels_list[0], 1, stride=1, padding=0),\n",
    "                nn.BatchNorm2d(out_channels_list[0])\n",
    "            )\n",
    "        \n",
    "        # Fully connected layer to compute combination weights 'a'\n",
    "        self.fc = nn.Linear(in_channels, self.L)\n",
    "        \n",
    "    def forward(self, x):\n",
    "        # Compute channel averages (m vector)\n",
    "        m = torch.mean(x, dim=[2, 3])  # (batch_size, in_channels)\n",
    "        \n",
    "        # Compute combination weights (a vector)\n",
    "        a = F.softmax(self.fc(m), dim=1)  # (batch_size, L)\n",
    "        \n",
    "        # Apply each conv layer to input\n",
    "        conv_outputs = []\n",
    "        for conv in self.conv_layers:\n",
    "            conv_outputs.append(conv(x))  # Each is (batch_size, out_channels, H, W)\n",
    "        \n",
    "        # Stack and combine outputs\n",
    "        stacked = torch.stack(conv_outputs, dim=1)  # (batch_size, L, out_channels, H, W)\n",
    "        a = a.view(-1, self.L, 1, 1, 1)  # Reshape for broadcasting\n",
    "        combined = (stacked * a).sum(dim=1)  # (batch_size, out_channels, H, W)\n",
    "        \n",
    "        # Add skip connection if needed\n",
    "        if self.skip_connection is not None:\n",
    "            skip = self.skip_connection(x)\n",
    "        else:\n",
    "            skip = x\n",
    "        \n",
    "        return F.relu(combined + skip)  # Skip connection with ReLU"
   ]
  },
  {
   "cell_type": "markdown",
   "id": "7150df93-63fe-40ea-94d1-1f3f1cfe397a",
   "metadata": {},
   "source": [
    "### Output Block:"
   ]
  },
  {
   "cell_type": "code",
   "execution_count": 8,
   "id": "aa746b78-4725-4821-8fa8-8cbd6de615fe",
   "metadata": {},
   "outputs": [],
   "source": [
    "# Define the Output Block\n",
    "class OutputBlock(nn.Module):\n",
    "    def __init__(self, in_channels, hidden_dims=[], num_classes=10, dropout_rate=0.2):\n",
    "        \"\"\"\n",
    "        Output Block with optional hidden layers and dropout\n",
    "        \n",
    "        Args:\n",
    "            in_channels: Number of input channels\n",
    "            hidden_dims: List of hidden layer dimensions\n",
    "            num_classes: Number of output classes\n",
    "            dropout_rate: Dropout probability\n",
    "        \"\"\"\n",
    "        super().__init__()\n",
    "        \n",
    "        # Create sequential FC layers\n",
    "        layers = []\n",
    "        prev_dim = in_channels\n",
    "        \n",
    "        for hidden_dim in hidden_dims:\n",
    "            layers.append(nn.Linear(prev_dim, hidden_dim))\n",
    "            layers.append(nn.BatchNorm1d(hidden_dim))\n",
    "            layers.append(nn.ReLU())\n",
    "            layers.append(nn.Dropout(dropout_rate))\n",
    "            prev_dim = hidden_dim\n",
    "        \n",
    "        layers.append(nn.Linear(prev_dim, num_classes))\n",
    "        self.fc_layers = nn.Sequential(*layers)\n",
    "        \n",
    "    def forward(self, x):\n",
    "        # Compute channel averages (m vector)\n",
    "        m = torch.mean(x, dim=[2, 3])  # (batch_size, in_channels)\n",
    "        \n",
    "        # Pass through FC layers\n",
    "        return self.fc_layers(m)"
   ]
  },
  {
   "cell_type": "markdown",
   "id": "2a87c676-1434-45ff-aa5f-bdd137472509",
   "metadata": {},
   "source": [
    "### Complete Neural Network:"
   ]
  },
  {
   "cell_type": "code",
   "execution_count": 9,
   "id": "e657ab57-acd1-49e5-adc7-d438ff07a41e",
   "metadata": {},
   "outputs": [],
   "source": [
    "# Define the Complete Network\n",
    "class CIFAR10Net(nn.Module):\n",
    "    def __init__(self):\n",
    "        super().__init__()\n",
    "        \n",
    "        # Initial convolution to expand channels\n",
    "        self.initial_conv = nn.Sequential(\n",
    "            nn.Conv2d(3, 32, kernel_size=3, padding=1),\n",
    "            nn.BatchNorm2d(32),\n",
    "            nn.ReLU()\n",
    "        )\n",
    "        \n",
    "        # Intermediate blocks with skip connections\n",
    "        self.block1 = IntermediateBlock(\n",
    "            in_channels=32,\n",
    "            out_channels_list=[64, 64, 64],\n",
    "            kernel_sizes=[3, 5, 7],\n",
    "            paddings=[1, 2, 3]\n",
    "        )\n",
    "        \n",
    "        self.block2 = IntermediateBlock(\n",
    "            in_channels=64,\n",
    "            out_channels_list=[128, 128, 128],\n",
    "            kernel_sizes=[3, 5, 7],\n",
    "            paddings=[1, 2, 3]\n",
    "        )\n",
    "        \n",
    "        self.block3 = IntermediateBlock(\n",
    "            in_channels=128,\n",
    "            out_channels_list=[256, 256, 256],\n",
    "            kernel_sizes=[3, 5, 7],\n",
    "            paddings=[1, 2, 3]\n",
    "        )\n",
    "        \n",
    "        # Output block with dropout\n",
    "        self.output = OutputBlock(\n",
    "            in_channels=256,\n",
    "            hidden_dims=[512, 256],\n",
    "            num_classes=10,\n",
    "            dropout_rate=0.3\n",
    "        )\n",
    "        \n",
    "    def forward(self, x):\n",
    "        x = self.initial_conv(x)\n",
    "        x = F.max_pool2d(x, 2)  # 16x16\n",
    "        \n",
    "        x = self.block1(x)\n",
    "        x = F.max_pool2d(x, 2)  # 8x8\n",
    "        \n",
    "        x = self.block2(x)\n",
    "        x = F.max_pool2d(x, 2)  # 4x4\n",
    "        \n",
    "        x = self.block3(x)\n",
    "        return self.output(x)"
   ]
  },
  {
   "cell_type": "markdown",
   "id": "58b7a2c9-6f98-494a-8829-b66af8e2e6bf",
   "metadata": {},
   "source": [
    "## Training and Testing"
   ]
  },
  {
   "cell_type": "markdown",
   "id": "b953fe15-6623-47bf-b786-849f59720e91",
   "metadata": {},
   "source": [
    "### Training Function:"
   ]
  },
  {
   "cell_type": "code",
   "execution_count": 15,
   "id": "732ea379-5064-4fd4-b50e-f1a633bfd8c9",
   "metadata": {},
   "outputs": [],
   "source": [
    "import matplotlib.pyplot as plt\n",
    "import numpy as np\n",
    "\n",
    "def train_and_plot(model, train_loader, test_loader, epochs, lr, weight_decay):\n",
    "    model.to(device)\n",
    "    criterion = nn.CrossEntropyLoss()\n",
    "    optimizer = torch.optim.Adam(model.parameters(), lr=lr, weight_decay=weight_decay)\n",
    "    scheduler = torch.optim.lr_scheduler.StepLR(optimizer, step_size=5, gamma=0.5)\n",
    "    \n",
    "    # Initialize metric storage\n",
    "    batch_losses = []  # Store all batch losses\n",
    "    epoch_train_acc = []\n",
    "    epoch_test_acc = []\n",
    "    best_acc = 0.0\n",
    "    \n",
    "    for epoch in range(epochs):\n",
    "        model.train()\n",
    "        running_loss = 0.0\n",
    "        correct = 0\n",
    "        total = 0\n",
    "        \n",
    "        # Training loop with progress bar\n",
    "        pbar = tqdm(train_loader, desc=f\"Epoch {epoch+1}/{epochs}\")\n",
    "        for images, labels in pbar:\n",
    "            images, labels = images.to(device), labels.to(device)\n",
    "            \n",
    "            optimizer.zero_grad()\n",
    "            outputs = model(images)\n",
    "            loss = criterion(outputs, labels)\n",
    "            loss.backward()\n",
    "            optimizer.step()\n",
    "            \n",
    "            # Store batch loss\n",
    "            batch_loss = loss.item()\n",
    "            batch_losses.append(batch_loss)\n",
    "            running_loss += batch_loss\n",
    "            \n",
    "            # Calculate accuracy\n",
    "            _, predicted = torch.max(outputs.data, 1)\n",
    "            total += labels.size(0)\n",
    "            correct += (predicted == labels).sum().item()\n",
    "            \n",
    "            # Update progress bar\n",
    "            pbar.set_postfix({\n",
    "                'loss': f\"{running_loss/len(batch_losses):.4f}\",\n",
    "                'acc': f\"{100*correct/total:.2f}%\"\n",
    "            })\n",
    "        \n",
    "        # Calculate epoch metrics\n",
    "        train_acc = 100 * correct / total\n",
    "        test_acc = evaluate_model(model, test_loader)\n",
    "        \n",
    "        epoch_train_acc.append(train_acc)\n",
    "        epoch_test_acc.append(test_acc)\n",
    "        \n",
    "        print(f\"Epoch {epoch+1}: Train Loss: {running_loss/len(train_loader):.4f}, \" +\n",
    "              f\"Train Acc: {train_acc:.2f}%, Test Acc: {test_acc:.2f}%\")\n",
    "        \n",
    "        scheduler.step()\n",
    "        \n",
    "        if test_acc > best_acc:\n",
    "            best_acc = test_acc\n",
    "            torch.save(model.state_dict(), 'best_model.pth')\n",
    "    \n",
    "    # Generate final plots after training completes\n",
    "    generate_final_plots(batch_losses, epoch_train_acc, epoch_test_acc)\n",
    "    \n",
    "    print(f\"Training complete. Best test accuracy: {best_acc:.2f}%\")\n",
    "    return best_acc\n",
    "\n",
    "def generate_final_plots(batch_losses, train_acc, test_acc):\n",
    "    \"\"\"Create and save the final plots\"\"\"\n",
    "    plt.figure(figsize=(15, 5))\n",
    "    \n",
    "    # Batch Loss Plot\n",
    "    plt.subplot(1, 2, 1)\n",
    "    plt.plot(batch_losses, 'b-', alpha=0.5)\n",
    "    plt.title('Training Batch Loss')\n",
    "    plt.xlabel('Batch Number')\n",
    "    plt.ylabel('Cross Entropy Loss')\n",
    "    plt.grid(True, alpha=0.3)\n",
    "    \n",
    "    # Accuracy Plot\n",
    "    plt.subplot(1, 2, 2)\n",
    "    plt.plot(train_acc, 'g-', label='Training Accuracy', marker='o')\n",
    "    plt.plot(test_acc, 'r-', label='Testing Accuracy', marker='o')\n",
    "    plt.title('Accuracy per Epoch')\n",
    "    plt.xlabel('Epoch')\n",
    "    plt.ylabel('Accuracy (%)')\n",
    "    plt.legend()\n",
    "    plt.grid(True, alpha=0.3)\n",
    "    \n",
    "    plt.tight_layout()"
   ]
  },
  {
   "cell_type": "markdown",
   "id": "da173724-d867-4880-a1db-dd9e538aa340",
   "metadata": {},
   "source": [
    "## Execution"
   ]
  },
  {
   "cell_type": "code",
   "execution_count": 17,
   "id": "16f57600-329e-4056-a071-f3372be3d796",
   "metadata": {},
   "outputs": [
    {
     "name": "stdout",
     "output_type": "stream",
     "text": [
      "Files already downloaded and verified\n",
      "Files already downloaded and verified\n",
      "CIFAR10Net(\n",
      "  (initial_conv): Sequential(\n",
      "    (0): Conv2d(3, 32, kernel_size=(3, 3), stride=(1, 1), padding=(1, 1))\n",
      "    (1): BatchNorm2d(32, eps=1e-05, momentum=0.1, affine=True, track_running_stats=True)\n",
      "    (2): ReLU()\n",
      "  )\n",
      "  (block1): IntermediateBlock(\n",
      "    (conv_layers): ModuleList(\n",
      "      (0): Sequential(\n",
      "        (0): Conv2d(32, 64, kernel_size=(3, 3), stride=(1, 1), padding=(1, 1))\n",
      "        (1): BatchNorm2d(64, eps=1e-05, momentum=0.1, affine=True, track_running_stats=True)\n",
      "        (2): ReLU()\n",
      "      )\n",
      "      (1): Sequential(\n",
      "        (0): Conv2d(32, 64, kernel_size=(5, 5), stride=(1, 1), padding=(2, 2))\n",
      "        (1): BatchNorm2d(64, eps=1e-05, momentum=0.1, affine=True, track_running_stats=True)\n",
      "        (2): ReLU()\n",
      "      )\n",
      "      (2): Sequential(\n",
      "        (0): Conv2d(32, 64, kernel_size=(7, 7), stride=(1, 1), padding=(3, 3))\n",
      "        (1): BatchNorm2d(64, eps=1e-05, momentum=0.1, affine=True, track_running_stats=True)\n",
      "        (2): ReLU()\n",
      "      )\n",
      "    )\n",
      "    (skip_connection): Sequential(\n",
      "      (0): Conv2d(32, 64, kernel_size=(1, 1), stride=(1, 1))\n",
      "      (1): BatchNorm2d(64, eps=1e-05, momentum=0.1, affine=True, track_running_stats=True)\n",
      "    )\n",
      "    (fc): Linear(in_features=32, out_features=3, bias=True)\n",
      "  )\n",
      "  (block2): IntermediateBlock(\n",
      "    (conv_layers): ModuleList(\n",
      "      (0): Sequential(\n",
      "        (0): Conv2d(64, 128, kernel_size=(3, 3), stride=(1, 1), padding=(1, 1))\n",
      "        (1): BatchNorm2d(128, eps=1e-05, momentum=0.1, affine=True, track_running_stats=True)\n",
      "        (2): ReLU()\n",
      "      )\n",
      "      (1): Sequential(\n",
      "        (0): Conv2d(64, 128, kernel_size=(5, 5), stride=(1, 1), padding=(2, 2))\n",
      "        (1): BatchNorm2d(128, eps=1e-05, momentum=0.1, affine=True, track_running_stats=True)\n",
      "        (2): ReLU()\n",
      "      )\n",
      "      (2): Sequential(\n",
      "        (0): Conv2d(64, 128, kernel_size=(7, 7), stride=(1, 1), padding=(3, 3))\n",
      "        (1): BatchNorm2d(128, eps=1e-05, momentum=0.1, affine=True, track_running_stats=True)\n",
      "        (2): ReLU()\n",
      "      )\n",
      "    )\n",
      "    (skip_connection): Sequential(\n",
      "      (0): Conv2d(64, 128, kernel_size=(1, 1), stride=(1, 1))\n",
      "      (1): BatchNorm2d(128, eps=1e-05, momentum=0.1, affine=True, track_running_stats=True)\n",
      "    )\n",
      "    (fc): Linear(in_features=64, out_features=3, bias=True)\n",
      "  )\n",
      "  (block3): IntermediateBlock(\n",
      "    (conv_layers): ModuleList(\n",
      "      (0): Sequential(\n",
      "        (0): Conv2d(128, 256, kernel_size=(3, 3), stride=(1, 1), padding=(1, 1))\n",
      "        (1): BatchNorm2d(256, eps=1e-05, momentum=0.1, affine=True, track_running_stats=True)\n",
      "        (2): ReLU()\n",
      "      )\n",
      "      (1): Sequential(\n",
      "        (0): Conv2d(128, 256, kernel_size=(5, 5), stride=(1, 1), padding=(2, 2))\n",
      "        (1): BatchNorm2d(256, eps=1e-05, momentum=0.1, affine=True, track_running_stats=True)\n",
      "        (2): ReLU()\n",
      "      )\n",
      "      (2): Sequential(\n",
      "        (0): Conv2d(128, 256, kernel_size=(7, 7), stride=(1, 1), padding=(3, 3))\n",
      "        (1): BatchNorm2d(256, eps=1e-05, momentum=0.1, affine=True, track_running_stats=True)\n",
      "        (2): ReLU()\n",
      "      )\n",
      "    )\n",
      "    (skip_connection): Sequential(\n",
      "      (0): Conv2d(128, 256, kernel_size=(1, 1), stride=(1, 1))\n",
      "      (1): BatchNorm2d(256, eps=1e-05, momentum=0.1, affine=True, track_running_stats=True)\n",
      "    )\n",
      "    (fc): Linear(in_features=128, out_features=3, bias=True)\n",
      "  )\n",
      "  (output): OutputBlock(\n",
      "    (fc_layers): Sequential(\n",
      "      (0): Linear(in_features=256, out_features=512, bias=True)\n",
      "      (1): BatchNorm1d(512, eps=1e-05, momentum=0.1, affine=True, track_running_stats=True)\n",
      "      (2): ReLU()\n",
      "      (3): Dropout(p=0.3, inplace=False)\n",
      "      (4): Linear(in_features=512, out_features=256, bias=True)\n",
      "      (5): BatchNorm1d(256, eps=1e-05, momentum=0.1, affine=True, track_running_stats=True)\n",
      "      (6): ReLU()\n",
      "      (7): Dropout(p=0.3, inplace=False)\n",
      "      (8): Linear(in_features=256, out_features=10, bias=True)\n",
      "    )\n",
      "  )\n",
      ")\n"
     ]
    },
    {
     "name": "stderr",
     "output_type": "stream",
     "text": [
      "Epoch 1/40: 100%|██████████| 391/391 [00:11<00:00, 34.65it/s, loss=1.4009, acc=48.59%]\n"
     ]
    },
    {
     "name": "stdout",
     "output_type": "stream",
     "text": [
      "Epoch 1: Train Loss: 1.4009, Train Acc: 48.59%, Test Acc: 53.94%\n"
     ]
    },
    {
     "name": "stderr",
     "output_type": "stream",
     "text": [
      "Epoch 2/40: 100%|██████████| 391/391 [00:10<00:00, 37.75it/s, loss=0.5203, acc=62.73%]\n"
     ]
    },
    {
     "name": "stdout",
     "output_type": "stream",
     "text": [
      "Epoch 2: Train Loss: 1.0406, Train Acc: 62.73%, Test Acc: 60.53%\n"
     ]
    },
    {
     "name": "stderr",
     "output_type": "stream",
     "text": [
      "Epoch 3/40: 100%|██████████| 391/391 [00:10<00:00, 36.44it/s, loss=0.3015, acc=67.99%]\n"
     ]
    },
    {
     "name": "stdout",
     "output_type": "stream",
     "text": [
      "Epoch 3: Train Loss: 0.9045, Train Acc: 67.99%, Test Acc: 66.73%\n"
     ]
    },
    {
     "name": "stderr",
     "output_type": "stream",
     "text": [
      "Epoch 4/40: 100%|██████████| 391/391 [00:11<00:00, 34.57it/s, loss=0.2037, acc=71.54%]\n"
     ]
    },
    {
     "name": "stdout",
     "output_type": "stream",
     "text": [
      "Epoch 4: Train Loss: 0.8146, Train Acc: 71.54%, Test Acc: 67.02%\n"
     ]
    },
    {
     "name": "stderr",
     "output_type": "stream",
     "text": [
      "Epoch 5/40: 100%|██████████| 391/391 [00:10<00:00, 37.20it/s, loss=0.1489, acc=74.10%]\n"
     ]
    },
    {
     "name": "stdout",
     "output_type": "stream",
     "text": [
      "Epoch 5: Train Loss: 0.7447, Train Acc: 74.10%, Test Acc: 74.08%\n"
     ]
    },
    {
     "name": "stderr",
     "output_type": "stream",
     "text": [
      "Epoch 6/40: 100%|██████████| 391/391 [00:10<00:00, 35.57it/s, loss=0.1061, acc=77.97%]\n"
     ]
    },
    {
     "name": "stdout",
     "output_type": "stream",
     "text": [
      "Epoch 6: Train Loss: 0.6365, Train Acc: 77.97%, Test Acc: 72.63%\n"
     ]
    },
    {
     "name": "stderr",
     "output_type": "stream",
     "text": [
      "Epoch 7/40: 100%|██████████| 391/391 [00:10<00:00, 37.80it/s, loss=0.0863, acc=78.99%]\n"
     ]
    },
    {
     "name": "stdout",
     "output_type": "stream",
     "text": [
      "Epoch 7: Train Loss: 0.6039, Train Acc: 78.99%, Test Acc: 78.08%\n"
     ]
    },
    {
     "name": "stderr",
     "output_type": "stream",
     "text": [
      "Epoch 8/40: 100%|██████████| 391/391 [00:11<00:00, 34.67it/s, loss=0.0723, acc=80.11%]\n"
     ]
    },
    {
     "name": "stdout",
     "output_type": "stream",
     "text": [
      "Epoch 8: Train Loss: 0.5783, Train Acc: 80.11%, Test Acc: 76.95%\n"
     ]
    },
    {
     "name": "stderr",
     "output_type": "stream",
     "text": [
      "Epoch 9/40: 100%|██████████| 391/391 [00:11<00:00, 34.26it/s, loss=0.0608, acc=81.07%]\n"
     ]
    },
    {
     "name": "stdout",
     "output_type": "stream",
     "text": [
      "Epoch 9: Train Loss: 0.5468, Train Acc: 81.07%, Test Acc: 78.79%\n"
     ]
    },
    {
     "name": "stderr",
     "output_type": "stream",
     "text": [
      "Epoch 10/40: 100%|██████████| 391/391 [00:11<00:00, 34.14it/s, loss=0.0536, acc=81.47%]\n"
     ]
    },
    {
     "name": "stdout",
     "output_type": "stream",
     "text": [
      "Epoch 10: Train Loss: 0.5357, Train Acc: 81.47%, Test Acc: 80.28%\n"
     ]
    },
    {
     "name": "stderr",
     "output_type": "stream",
     "text": [
      "Epoch 11/40: 100%|██████████| 391/391 [00:10<00:00, 36.36it/s, loss=0.0431, acc=83.49%]\n"
     ]
    },
    {
     "name": "stdout",
     "output_type": "stream",
     "text": [
      "Epoch 11: Train Loss: 0.4745, Train Acc: 83.49%, Test Acc: 82.04%\n"
     ]
    },
    {
     "name": "stderr",
     "output_type": "stream",
     "text": [
      "Epoch 12/40: 100%|██████████| 391/391 [00:11<00:00, 35.53it/s, loss=0.0377, acc=84.48%]\n"
     ]
    },
    {
     "name": "stdout",
     "output_type": "stream",
     "text": [
      "Epoch 12: Train Loss: 0.4523, Train Acc: 84.48%, Test Acc: 82.30%\n"
     ]
    },
    {
     "name": "stderr",
     "output_type": "stream",
     "text": [
      "Epoch 13/40: 100%|██████████| 391/391 [00:10<00:00, 36.58it/s, loss=0.0337, acc=84.85%]\n"
     ]
    },
    {
     "name": "stdout",
     "output_type": "stream",
     "text": [
      "Epoch 13: Train Loss: 0.4380, Train Acc: 84.85%, Test Acc: 83.05%\n"
     ]
    },
    {
     "name": "stderr",
     "output_type": "stream",
     "text": [
      "Epoch 14/40: 100%|██████████| 391/391 [00:11<00:00, 35.42it/s, loss=0.0302, acc=85.38%]\n"
     ]
    },
    {
     "name": "stdout",
     "output_type": "stream",
     "text": [
      "Epoch 14: Train Loss: 0.4223, Train Acc: 85.38%, Test Acc: 82.91%\n"
     ]
    },
    {
     "name": "stderr",
     "output_type": "stream",
     "text": [
      "Epoch 15/40: 100%|██████████| 391/391 [00:11<00:00, 34.29it/s, loss=0.0279, acc=85.57%]\n"
     ]
    },
    {
     "name": "stdout",
     "output_type": "stream",
     "text": [
      "Epoch 15: Train Loss: 0.4185, Train Acc: 85.57%, Test Acc: 83.50%\n"
     ]
    },
    {
     "name": "stderr",
     "output_type": "stream",
     "text": [
      "Epoch 16/40: 100%|██████████| 391/391 [00:10<00:00, 36.99it/s, loss=0.0236, acc=86.97%]\n"
     ]
    },
    {
     "name": "stdout",
     "output_type": "stream",
     "text": [
      "Epoch 16: Train Loss: 0.3772, Train Acc: 86.97%, Test Acc: 84.46%\n"
     ]
    },
    {
     "name": "stderr",
     "output_type": "stream",
     "text": [
      "Epoch 17/40: 100%|██████████| 391/391 [00:11<00:00, 34.66it/s, loss=0.0217, acc=87.16%]\n"
     ]
    },
    {
     "name": "stdout",
     "output_type": "stream",
     "text": [
      "Epoch 17: Train Loss: 0.3691, Train Acc: 87.16%, Test Acc: 84.23%\n"
     ]
    },
    {
     "name": "stderr",
     "output_type": "stream",
     "text": [
      "Epoch 18/40: 100%|██████████| 391/391 [00:10<00:00, 37.04it/s, loss=0.0200, acc=87.71%]\n"
     ]
    },
    {
     "name": "stdout",
     "output_type": "stream",
     "text": [
      "Epoch 18: Train Loss: 0.3603, Train Acc: 87.71%, Test Acc: 83.70%\n"
     ]
    },
    {
     "name": "stderr",
     "output_type": "stream",
     "text": [
      "Epoch 19/40: 100%|██████████| 391/391 [00:11<00:00, 34.39it/s, loss=0.0185, acc=87.79%]\n"
     ]
    },
    {
     "name": "stdout",
     "output_type": "stream",
     "text": [
      "Epoch 19: Train Loss: 0.3513, Train Acc: 87.79%, Test Acc: 84.37%\n"
     ]
    },
    {
     "name": "stderr",
     "output_type": "stream",
     "text": [
      "Epoch 20/40: 100%|██████████| 391/391 [00:10<00:00, 37.17it/s, loss=0.0173, acc=88.06%]\n"
     ]
    },
    {
     "name": "stdout",
     "output_type": "stream",
     "text": [
      "Epoch 20: Train Loss: 0.3467, Train Acc: 88.06%, Test Acc: 84.25%\n"
     ]
    },
    {
     "name": "stderr",
     "output_type": "stream",
     "text": [
      "Epoch 21/40: 100%|██████████| 391/391 [00:10<00:00, 36.88it/s, loss=0.0156, acc=88.67%]\n"
     ]
    },
    {
     "name": "stdout",
     "output_type": "stream",
     "text": [
      "Epoch 21: Train Loss: 0.3266, Train Acc: 88.67%, Test Acc: 85.33%\n"
     ]
    },
    {
     "name": "stderr",
     "output_type": "stream",
     "text": [
      "Epoch 22/40: 100%|██████████| 391/391 [00:10<00:00, 36.03it/s, loss=0.0146, acc=88.93%]\n"
     ]
    },
    {
     "name": "stdout",
     "output_type": "stream",
     "text": [
      "Epoch 22: Train Loss: 0.3205, Train Acc: 88.93%, Test Acc: 85.44%\n"
     ]
    },
    {
     "name": "stderr",
     "output_type": "stream",
     "text": [
      "Epoch 23/40: 100%|██████████| 391/391 [00:10<00:00, 35.81it/s, loss=0.0139, acc=89.02%]\n"
     ]
    },
    {
     "name": "stdout",
     "output_type": "stream",
     "text": [
      "Epoch 23: Train Loss: 0.3188, Train Acc: 89.02%, Test Acc: 85.45%\n"
     ]
    },
    {
     "name": "stderr",
     "output_type": "stream",
     "text": [
      "Epoch 24/40: 100%|██████████| 391/391 [00:11<00:00, 35.46it/s, loss=0.0130, acc=89.11%]\n"
     ]
    },
    {
     "name": "stdout",
     "output_type": "stream",
     "text": [
      "Epoch 24: Train Loss: 0.3130, Train Acc: 89.11%, Test Acc: 85.32%\n"
     ]
    },
    {
     "name": "stderr",
     "output_type": "stream",
     "text": [
      "Epoch 25/40: 100%|██████████| 391/391 [00:10<00:00, 37.46it/s, loss=0.0122, acc=89.31%]\n"
     ]
    },
    {
     "name": "stdout",
     "output_type": "stream",
     "text": [
      "Epoch 25: Train Loss: 0.3060, Train Acc: 89.31%, Test Acc: 85.22%\n"
     ]
    },
    {
     "name": "stderr",
     "output_type": "stream",
     "text": [
      "Epoch 26/40: 100%|██████████| 391/391 [00:10<00:00, 35.73it/s, loss=0.0115, acc=89.62%]\n"
     ]
    },
    {
     "name": "stdout",
     "output_type": "stream",
     "text": [
      "Epoch 26: Train Loss: 0.2981, Train Acc: 89.62%, Test Acc: 85.66%\n"
     ]
    },
    {
     "name": "stderr",
     "output_type": "stream",
     "text": [
      "Epoch 27/40: 100%|██████████| 391/391 [00:10<00:00, 36.12it/s, loss=0.0110, acc=89.58%]\n"
     ]
    },
    {
     "name": "stdout",
     "output_type": "stream",
     "text": [
      "Epoch 27: Train Loss: 0.2964, Train Acc: 89.58%, Test Acc: 85.75%\n"
     ]
    },
    {
     "name": "stderr",
     "output_type": "stream",
     "text": [
      "Epoch 28/40: 100%|██████████| 391/391 [00:10<00:00, 36.91it/s, loss=0.0103, acc=89.92%]\n"
     ]
    },
    {
     "name": "stdout",
     "output_type": "stream",
     "text": [
      "Epoch 28: Train Loss: 0.2889, Train Acc: 89.92%, Test Acc: 85.70%\n"
     ]
    },
    {
     "name": "stderr",
     "output_type": "stream",
     "text": [
      "Epoch 29/40: 100%|██████████| 391/391 [00:09<00:00, 40.03it/s, loss=0.0099, acc=90.19%]\n"
     ]
    },
    {
     "name": "stdout",
     "output_type": "stream",
     "text": [
      "Epoch 29: Train Loss: 0.2879, Train Acc: 90.19%, Test Acc: 85.85%\n"
     ]
    },
    {
     "name": "stderr",
     "output_type": "stream",
     "text": [
      "Epoch 30/40: 100%|██████████| 391/391 [00:09<00:00, 42.98it/s, loss=0.0095, acc=90.18%]\n"
     ]
    },
    {
     "name": "stdout",
     "output_type": "stream",
     "text": [
      "Epoch 30: Train Loss: 0.2865, Train Acc: 90.18%, Test Acc: 85.80%\n"
     ]
    },
    {
     "name": "stderr",
     "output_type": "stream",
     "text": [
      "Epoch 31/40: 100%|██████████| 391/391 [00:09<00:00, 43.16it/s, loss=0.0091, acc=90.16%]\n"
     ]
    },
    {
     "name": "stdout",
     "output_type": "stream",
     "text": [
      "Epoch 31: Train Loss: 0.2836, Train Acc: 90.16%, Test Acc: 86.08%\n"
     ]
    },
    {
     "name": "stderr",
     "output_type": "stream",
     "text": [
      "Epoch 32/40: 100%|██████████| 391/391 [00:09<00:00, 40.81it/s, loss=0.0087, acc=90.37%]\n"
     ]
    },
    {
     "name": "stdout",
     "output_type": "stream",
     "text": [
      "Epoch 32: Train Loss: 0.2785, Train Acc: 90.37%, Test Acc: 86.09%\n"
     ]
    },
    {
     "name": "stderr",
     "output_type": "stream",
     "text": [
      "Epoch 33/40: 100%|██████████| 391/391 [00:09<00:00, 40.55it/s, loss=0.0085, acc=90.37%]\n"
     ]
    },
    {
     "name": "stdout",
     "output_type": "stream",
     "text": [
      "Epoch 33: Train Loss: 0.2796, Train Acc: 90.37%, Test Acc: 85.77%\n"
     ]
    },
    {
     "name": "stderr",
     "output_type": "stream",
     "text": [
      "Epoch 34/40: 100%|██████████| 391/391 [00:09<00:00, 40.31it/s, loss=0.0081, acc=90.42%]\n"
     ]
    },
    {
     "name": "stdout",
     "output_type": "stream",
     "text": [
      "Epoch 34: Train Loss: 0.2763, Train Acc: 90.42%, Test Acc: 85.96%\n"
     ]
    },
    {
     "name": "stderr",
     "output_type": "stream",
     "text": [
      "Epoch 35/40: 100%|██████████| 391/391 [00:09<00:00, 42.17it/s, loss=0.0079, acc=90.36%]\n"
     ]
    },
    {
     "name": "stdout",
     "output_type": "stream",
     "text": [
      "Epoch 35: Train Loss: 0.2773, Train Acc: 90.36%, Test Acc: 85.93%\n"
     ]
    },
    {
     "name": "stderr",
     "output_type": "stream",
     "text": [
      "Epoch 36/40: 100%|██████████| 391/391 [00:09<00:00, 40.83it/s, loss=0.0076, acc=90.58%]\n"
     ]
    },
    {
     "name": "stdout",
     "output_type": "stream",
     "text": [
      "Epoch 36: Train Loss: 0.2748, Train Acc: 90.58%, Test Acc: 86.02%\n"
     ]
    },
    {
     "name": "stderr",
     "output_type": "stream",
     "text": [
      "Epoch 37/40: 100%|██████████| 391/391 [00:09<00:00, 39.60it/s, loss=0.0074, acc=90.58%]\n"
     ]
    },
    {
     "name": "stdout",
     "output_type": "stream",
     "text": [
      "Epoch 37: Train Loss: 0.2737, Train Acc: 90.58%, Test Acc: 86.03%\n"
     ]
    },
    {
     "name": "stderr",
     "output_type": "stream",
     "text": [
      "Epoch 38/40: 100%|██████████| 391/391 [00:09<00:00, 42.87it/s, loss=0.0072, acc=90.65%]\n"
     ]
    },
    {
     "name": "stdout",
     "output_type": "stream",
     "text": [
      "Epoch 38: Train Loss: 0.2720, Train Acc: 90.65%, Test Acc: 85.88%\n"
     ]
    },
    {
     "name": "stderr",
     "output_type": "stream",
     "text": [
      "Epoch 39/40: 100%|██████████| 391/391 [00:09<00:00, 41.93it/s, loss=0.0069, acc=90.78%]\n"
     ]
    },
    {
     "name": "stdout",
     "output_type": "stream",
     "text": [
      "Epoch 39: Train Loss: 0.2693, Train Acc: 90.78%, Test Acc: 86.10%\n"
     ]
    },
    {
     "name": "stderr",
     "output_type": "stream",
     "text": [
      "Epoch 40/40: 100%|██████████| 391/391 [00:09<00:00, 40.22it/s, loss=0.0068, acc=90.50%]\n"
     ]
    },
    {
     "name": "stdout",
     "output_type": "stream",
     "text": [
      "Epoch 40: Train Loss: 0.2731, Train Acc: 90.50%, Test Acc: 86.01%\n",
      "Training complete. Best test accuracy: 86.10%\n",
      "Final Model Accuracy: 86.10%\n"
     ]
    },
    {
     "data": {
      "image/png": "[encoded data removed]",
      "text/plain": [
       "<Figure size 1500x500 with 2 Axes>"
      ]
     },
     "metadata": {},
     "output_type": "display_data"
    }
   ],
   "source": [
    "# Main execution\n",
    "if __name__ == \"__main__\":\n",
    "    # Hyperparameters\n",
    "    batch_size = 128\n",
    "    epochs = 40\n",
    "    learning_rate = 0.001\n",
    "    weight_decay = 1e-4\n",
    "    \n",
    "    # Get data loaders\n",
    "    train_loader, test_loader = get_dataloaders(batch_size)\n",
    "    \n",
    "    # Initialize model\n",
    "    model = CIFAR10Net()\n",
    "    print(model)\n",
    "    \n",
    "    # Train the model and generate final plots\n",
    "    best_acc = train_and_plot(model, train_loader, test_loader, epochs, learning_rate, weight_decay)\n",
    "    \n",
    "    print(f\"Final Model Accuracy: {best_acc:.2f}%\")"
   ]
  },
  {
   "cell_type": "code",
   "execution_count": null,
   "id": "53fc7cb0-c348-44ea-8e81-fb6b883fc8b9",
   "metadata": {},
   "outputs": [],
   "source": []
  }
 ],
 "metadata": {
  "kernelspec": {
   "display_name": "Python 3 (ipykernel)",
   "language": "python",
   "name": "python3"
  },
  "language_info": {
   "codemirror_mode": {
    "name": "ipython",
    "version": 3
   },
   "file_extension": ".py",
   "mimetype": "text/x-python",
   "name": "python",
   "nbconvert_exporter": "python",
   "pygments_lexer": "ipython3",
   "version": "3.11.7"
  }
 },
 "nbformat": 4,
 "nbformat_minor": 5
}
